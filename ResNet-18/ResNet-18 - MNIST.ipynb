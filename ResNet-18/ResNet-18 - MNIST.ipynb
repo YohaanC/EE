{
 "cells": [
  {
   "cell_type": "markdown",
   "id": "2cbd5dba",
   "metadata": {},
   "source": [
    "# ResNet-50 Models"
   ]
  },
  {
   "cell_type": "code",
   "execution_count": 1,
   "id": "d41f812b",
   "metadata": {},
   "outputs": [],
   "source": [
    "import tensorflow as tf\n",
    "from tensorflow import keras\n",
    "from keras import layers as tkl\n",
    "import seaborn as sn\n",
    "import pandas as pd\n",
    "import matplotlib.pyplot as plt\n",
    "import numpy as np\n",
    "from PIL import Image\n",
    "import math"
   ]
  },
  {
   "cell_type": "code",
   "execution_count": 2,
   "id": "7151a9d6",
   "metadata": {},
   "outputs": [],
   "source": [
    "(X_train, y_train), (X_test, y_test) = keras.datasets.mnist.load_data()\n",
    "classes = [\"0\", \"1\", \"2\", \"3\", \"4\", \"5\", \"6\", \"7\", \"8\", \"9\"]\n",
    "\n",
    "y_train = y_train.reshape(-1,)\n",
    "y_test = y_test.reshape(-1,)"
   ]
  },
  {
   "cell_type": "code",
   "execution_count": 3,
   "id": "1d538110",
   "metadata": {},
   "outputs": [],
   "source": [
    "X_train = X_train / 255\n",
    "X_test = X_test / 255"
   ]
  },
  {
   "cell_type": "code",
   "execution_count": 4,
   "id": "fe608fe0",
   "metadata": {},
   "outputs": [
    {
     "data": {
      "image/png": "[encoded data removed]",
      "text/plain": [
       "<Figure size 432x288 with 1 Axes>"
      ]
     },
     "metadata": {
      "needs_background": "light"
     },
     "output_type": "display_data"
    }
   ],
   "source": [
    "plt.imshow(X_train[0], cmap = \"Greys_r\")\n",
    "plt.title(classes[y_train[0]])\n",
    "plt.show()"
   ]
  },
  {
   "cell_type": "code",
   "execution_count": 5,
   "id": "b80d2f61",
   "metadata": {},
   "outputs": [],
   "source": [
    "def residual_block(X, concat, filters, kernel_size):\n",
    "    conv3x3_v1 = tkl.Conv2D(filters, kernel_size = kernel_size, strides = (1, 1), padding = \"same\", activation = \"relu\", kernel_initializer = \"he_normal\", bias_initializer = \"he_normal\")(X)\n",
    "    conv3x3_v2 = tkl.Conv2D(filters, kernel_size = kernel_size, strides = (1, 1), padding = \"same\", activation = \"relu\", kernel_initializer = \"he_normal\", bias_initializer = \"he_normal\")(conv3x3_v1)\n",
    "    output = tkl.Concatenate(axis = 3)([conv3x3_v2, concat])\n",
    "    return output, conv3x3_v2"
   ]
  },
  {
   "cell_type": "markdown",
   "id": "316d1add",
   "metadata": {},
   "source": [
    "### 1. ResNet Model v1 - 2"
   ]
  },
  {
   "cell_type": "code",
   "execution_count": 23,
   "id": "433deb65",
   "metadata": {},
   "outputs": [],
   "source": [
    "def resnet_v1():\n",
    "    input_layer = keras.Input(shape = (28, 28, 1), name = \"input_1\")\n",
    "    \n",
    "    A1 = tkl.Conv2D(64, kernel_size = (3, 3), strides = (1, 1), padding = \"same\", activation = \"relu\", kernel_initializer = \"he_normal\", bias_initializer = \"he_normal\")(input_layer)\n",
    "    \n",
    "    R2, A2 = residual_block(A1, A1, 64, (3, 3))\n",
    "    R3, A3 = residual_block(R2, A2, 64, (3, 3))\n",
    "    \n",
    "    P5 = tkl.GlobalAveragePooling2D(name = \"pool_5\")(R3)\n",
    "    \n",
    "    output = tkl.Dense(10, activation = \"softmax\", name = \"output\", kernel_initializer = \"he_normal\", bias_initializer = \"he_normal\")(P5)\n",
    "    \n",
    "    model = keras.Model(input_layer, output, name = \"ResNetv1\")\n",
    "    model.compile(\n",
    "        loss = keras.losses.SparseCategoricalCrossentropy(),\n",
    "        optimizer = keras.optimizers.Adam(),\n",
    "        metrics = [\"accuracy\"]\n",
    "    )\n",
    "    return model"
   ]
  },
  {
   "cell_type": "code",
   "execution_count": 24,
   "id": "d371f2f5",
   "metadata": {},
   "outputs": [],
   "source": [
    "resnet_v1 = resnet_v1()"
   ]
  },
  {
   "cell_type": "code",
   "execution_count": 28,
   "id": "8045b15e",
   "metadata": {
    "collapsed": true
   },
   "outputs": [
    {
     "name": "stdout",
     "output_type": "stream",
     "text": [
      "Epoch 1/3\n"
     ]
    },
    {
     "name": "stderr",
     "output_type": "stream",
     "text": [
      "2022-10-25 17:32:40.314554: I tensorflow/core/grappler/optimizers/custom_graph_optimizer_registry.cc:113] Plugin optimizer for device_type GPU is enabled.\n"
     ]
    },
    {
     "name": "stdout",
     "output_type": "stream",
     "text": [
      "1873/1875 [============================>.] - ETA: 0s - loss: 0.4496 - accuracy: 0.8518"
     ]
    },
    {
     "name": "stderr",
     "output_type": "stream",
     "text": [
      "2022-10-25 17:33:21.460596: I tensorflow/core/grappler/optimizers/custom_graph_optimizer_registry.cc:113] Plugin optimizer for device_type GPU is enabled.\n"
     ]
    },
    {
     "name": "stdout",
     "output_type": "stream",
     "text": [
      "1875/1875 [==============================] - 46s 24ms/step - loss: 0.4492 - accuracy: 0.8520 - val_loss: 0.1435 - val_accuracy: 0.9572\n",
      "Epoch 2/3\n",
      "1875/1875 [==============================] - 44s 23ms/step - loss: 0.1112 - accuracy: 0.9669 - val_loss: 0.0835 - val_accuracy: 0.9734\n",
      "Epoch 3/3\n",
      "1875/1875 [==============================] - 44s 23ms/step - loss: 0.0747 - accuracy: 0.9772 - val_loss: 0.0453 - val_accuracy: 0.9846\n"
     ]
    }
   ],
   "source": [
    "history = resnet_v1.fit(X_train, y_train, validation_data = (X_test, y_test), epochs = 3)"
   ]
  },
  {
   "cell_type": "code",
   "execution_count": 29,
   "id": "94136049",
   "metadata": {
    "collapsed": true
   },
   "outputs": [
    {
     "name": "stdout",
     "output_type": "stream",
     "text": [
      " 14/313 [>.............................] - ETA: 2s"
     ]
    },
    {
     "name": "stderr",
     "output_type": "stream",
     "text": [
      "2022-10-25 17:34:53.607700: I tensorflow/core/grappler/optimizers/custom_graph_optimizer_registry.cc:113] Plugin optimizer for device_type GPU is enabled.\n"
     ]
    },
    {
     "name": "stdout",
     "output_type": "stream",
     "text": [
      "313/313 [==============================] - 4s 14ms/step\n"
     ]
    }
   ],
   "source": [
    "predictions = resnet_v1.predict(X_test)"
   ]
  },
  {
   "cell_type": "code",
   "execution_count": 30,
   "id": "73a1fcd8",
   "metadata": {},
   "outputs": [],
   "source": [
    "confusion_matrix = tf.math.confusion_matrix(y_test, np.argmax(predictions, axis = 1), 10)"
   ]
  },
  {
   "cell_type": "code",
   "execution_count": 31,
   "id": "08f2665e",
   "metadata": {
    "collapsed": true
   },
   "outputs": [
    {
     "data": {
      "image/png": "[encoded data removed]",
      "text/plain": [
       "<Figure size 720x504 with 2 Axes>"
      ]
     },
     "metadata": {
      "needs_background": "light"
     },
     "output_type": "display_data"
    }
   ],
   "source": [
    "df_cm = pd.DataFrame(confusion_matrix, index = classes, columns = classes)\n",
    "plt.figure(figsize = (10,7))\n",
    "sn.heatmap(df_cm, annot=True, cmap=sn.color_palette(\"ch:start=.2,rot=-.3\", as_cmap=True))\n",
    "plt.show()"
   ]
  },
  {
   "cell_type": "markdown",
   "id": "1bce7b60",
   "metadata": {},
   "source": [
    "### 2. ResNet Model v2 - 4"
   ]
  },
  {
   "cell_type": "code",
   "execution_count": 32,
   "id": "4f96332b",
   "metadata": {},
   "outputs": [],
   "source": [
    "def resnet_v2():\n",
    "    input_layer = keras.Input(shape = (28, 28, 1), name = \"input_1\")\n",
    "    \n",
    "    A1 = tkl.Conv2D(64, kernel_size = (3, 3), strides = (1, 1), padding = \"same\", activation = \"relu\", kernel_initializer = \"he_normal\", bias_initializer = \"he_normal\")(input_layer)\n",
    "    \n",
    "    R2, A2 = residual_block(A1, A1, 64, (3, 3))\n",
    "    R3, A3 = residual_block(R2, A2, 64, (3, 3))\n",
    "    \n",
    "    P2 = tkl.MaxPool2D(pool_size = (3, 3), strides = (2, 2), padding = \"same\")(R3)\n",
    "    \n",
    "    R4, A4 = residual_block(P2, P2, 128, (3, 3))\n",
    "    R5, A5 = residual_block(R4, A4, 128, (3, 3))\n",
    "    \n",
    "    P5 = tkl.GlobalAveragePooling2D(name = \"pool_5\")(R5)\n",
    "    \n",
    "    output = tkl.Dense(10, activation = \"softmax\", name = \"output\", kernel_initializer = \"he_normal\", bias_initializer = \"he_normal\")(P5)\n",
    "    \n",
    "    model = keras.Model(input_layer, output, name = \"ResNetv2\")\n",
    "    model.compile(\n",
    "        loss = keras.losses.SparseCategoricalCrossentropy(),\n",
    "        optimizer = keras.optimizers.Adam(),\n",
    "        metrics = [\"accuracy\"]\n",
    "    )\n",
    "    return model"
   ]
  },
  {
   "cell_type": "code",
   "execution_count": 33,
   "id": "955e3d89",
   "metadata": {},
   "outputs": [],
   "source": [
    "resnet_v2 = resnet_v2()"
   ]
  },
  {
   "cell_type": "code",
   "execution_count": 34,
   "id": "82d04461",
   "metadata": {
    "collapsed": true
   },
   "outputs": [
    {
     "name": "stdout",
     "output_type": "stream",
     "text": [
      "Epoch 1/3\n"
     ]
    },
    {
     "name": "stderr",
     "output_type": "stream",
     "text": [
      "2022-10-25 17:34:59.012435: I tensorflow/core/grappler/optimizers/custom_graph_optimizer_registry.cc:113] Plugin optimizer for device_type GPU is enabled.\n"
     ]
    },
    {
     "name": "stdout",
     "output_type": "stream",
     "text": [
      "1874/1875 [============================>.] - ETA: 0s - loss: 0.2301 - accuracy: 0.9241"
     ]
    },
    {
     "name": "stderr",
     "output_type": "stream",
     "text": [
      "2022-10-25 17:35:50.109754: I tensorflow/core/grappler/optimizers/custom_graph_optimizer_registry.cc:113] Plugin optimizer for device_type GPU is enabled.\n"
     ]
    },
    {
     "name": "stdout",
     "output_type": "stream",
     "text": [
      "1875/1875 [==============================] - 57s 30ms/step - loss: 0.2300 - accuracy: 0.9241 - val_loss: 0.0451 - val_accuracy: 0.9857\n",
      "Epoch 2/3\n",
      "1875/1875 [==============================] - 56s 30ms/step - loss: 0.0481 - accuracy: 0.9852 - val_loss: 0.0315 - val_accuracy: 0.9898\n",
      "Epoch 3/3\n",
      "1875/1875 [==============================] - 57s 30ms/step - loss: 0.0366 - accuracy: 0.9892 - val_loss: 0.0317 - val_accuracy: 0.9905\n"
     ]
    }
   ],
   "source": [
    "history = resnet_v2.fit(X_train, y_train, validation_data = (X_test, y_test), epochs = 3)"
   ]
  },
  {
   "cell_type": "code",
   "execution_count": 35,
   "id": "1d74eea4",
   "metadata": {
    "collapsed": true
   },
   "outputs": [
    {
     "name": "stdout",
     "output_type": "stream",
     "text": [
      "  5/313 [..............................] - ETA: 4s "
     ]
    },
    {
     "name": "stderr",
     "output_type": "stream",
     "text": [
      "2022-10-25 17:37:47.822577: I tensorflow/core/grappler/optimizers/custom_graph_optimizer_registry.cc:113] Plugin optimizer for device_type GPU is enabled.\n"
     ]
    },
    {
     "name": "stdout",
     "output_type": "stream",
     "text": [
      "313/313 [==============================] - 5s 16ms/step\n"
     ]
    }
   ],
   "source": [
    "predictions = resnet_v2.predict(X_test)"
   ]
  },
  {
   "cell_type": "code",
   "execution_count": 36,
   "id": "1af89d0f",
   "metadata": {},
   "outputs": [],
   "source": [
    "confusion_matrix = tf.math.confusion_matrix(y_test, np.argmax(predictions, axis = 1), 10)"
   ]
  },
  {
   "cell_type": "code",
   "execution_count": 37,
   "id": "8be9a247",
   "metadata": {
    "collapsed": true
   },
   "outputs": [
    {
     "data": {
      "image/png": "[encoded data removed]",
      "text/plain": [
       "<Figure size 720x504 with 2 Axes>"
      ]
     },
     "metadata": {
      "needs_background": "light"
     },
     "output_type": "display_data"
    }
   ],
   "source": [
    "df_cm = pd.DataFrame(confusion_matrix, index = classes, columns = classes)\n",
    "plt.figure(figsize = (10,7))\n",
    "sn.heatmap(df_cm, annot=True, cmap=sn.color_palette(\"ch:start=.2,rot=-.3\", as_cmap=True))\n",
    "plt.show()"
   ]
  },
  {
   "cell_type": "markdown",
   "id": "33c43fdd",
   "metadata": {},
   "source": [
    "### 3. ResNet Model v3 - 6"
   ]
  },
  {
   "cell_type": "code",
   "execution_count": 38,
   "id": "89dff96a",
   "metadata": {},
   "outputs": [],
   "source": [
    "def resnet_v3():\n",
    "    input_layer = keras.Input(shape = (28, 28, 1), name = \"input_1\")\n",
    "    \n",
    "    A1 = tkl.Conv2D(64, kernel_size = (3, 3), strides = (1, 1), padding = \"same\", activation = \"relu\", kernel_initializer = \"he_normal\", bias_initializer = \"he_normal\")(input_layer)\n",
    "    \n",
    "    R2, A2 = residual_block(A1, A1, 64, (3, 3))\n",
    "    R3, A3 = residual_block(R2, A2, 64, (3, 3))\n",
    "    \n",
    "    P2 = tkl.MaxPool2D(pool_size = (3, 3), strides = (2, 2), padding = \"same\")(R3)\n",
    "    \n",
    "    R4, A4 = residual_block(P2, P2, 128, (3, 3))\n",
    "    R5, A5 = residual_block(R4, A4, 128, (3, 3))\n",
    "    \n",
    "    P3 = tkl.MaxPool2D(pool_size = (3, 3), strides = (2, 2), padding = \"same\")(R5)\n",
    "    \n",
    "    R6, A6 = residual_block(P3, P3, 256, (3, 3))\n",
    "    R7, A7 = residual_block(R6, A6, 256, (3, 3))\n",
    "    \n",
    "    P5 = tkl.GlobalAveragePooling2D(name = \"pool_5\")(R7)\n",
    "    \n",
    "    output = tkl.Dense(10, activation = \"softmax\", name = \"output\", kernel_initializer = \"he_normal\", bias_initializer = \"he_normal\")(P5)\n",
    "    \n",
    "    model = keras.Model(input_layer, output, name = \"ResNetv3\")\n",
    "    model.compile(\n",
    "        loss = keras.losses.SparseCategoricalCrossentropy(),\n",
    "        optimizer = keras.optimizers.Adam(),\n",
    "        metrics = [\"accuracy\"]\n",
    "    )\n",
    "    return model"
   ]
  },
  {
   "cell_type": "code",
   "execution_count": 39,
   "id": "c1b3a924",
   "metadata": {},
   "outputs": [],
   "source": [
    "resnet_v3 = resnet_v3()"
   ]
  },
  {
   "cell_type": "code",
   "execution_count": 40,
   "id": "3047134f",
   "metadata": {},
   "outputs": [
    {
     "name": "stdout",
     "output_type": "stream",
     "text": [
      "Epoch 1/3\n"
     ]
    },
    {
     "name": "stderr",
     "output_type": "stream",
     "text": [
      "2022-10-25 17:37:53.746041: I tensorflow/core/grappler/optimizers/custom_graph_optimizer_registry.cc:113] Plugin optimizer for device_type GPU is enabled.\n"
     ]
    },
    {
     "name": "stdout",
     "output_type": "stream",
     "text": [
      "1875/1875 [==============================] - ETA: 0s - loss: 0.2739 - accuracy: 0.9085"
     ]
    },
    {
     "name": "stderr",
     "output_type": "stream",
     "text": [
      "2022-10-25 17:39:11.636825: I tensorflow/core/grappler/optimizers/custom_graph_optimizer_registry.cc:113] Plugin optimizer for device_type GPU is enabled.\n"
     ]
    },
    {
     "name": "stdout",
     "output_type": "stream",
     "text": [
      "1875/1875 [==============================] - 84s 44ms/step - loss: 0.2739 - accuracy: 0.9085 - val_loss: 0.0357 - val_accuracy: 0.9884\n",
      "Epoch 2/3\n",
      "1875/1875 [==============================] - 105s 56ms/step - loss: 0.0494 - accuracy: 0.9856 - val_loss: 0.0283 - val_accuracy: 0.9912\n",
      "Epoch 3/3\n",
      "1875/1875 [==============================] - 105s 56ms/step - loss: 0.0354 - accuracy: 0.9891 - val_loss: 0.0392 - val_accuracy: 0.9898\n"
     ]
    }
   ],
   "source": [
    "history = resnet_v3.fit(X_train, y_train, validation_data = (X_test, y_test), epochs = 3)"
   ]
  },
  {
   "cell_type": "code",
   "execution_count": 41,
   "id": "d6e266f9",
   "metadata": {},
   "outputs": [
    {
     "name": "stdout",
     "output_type": "stream",
     "text": [
      "\r",
      "  1/313 [..............................] - ETA: 1:11"
     ]
    },
    {
     "name": "stderr",
     "output_type": "stream",
     "text": [
      "2022-10-25 17:42:48.356919: I tensorflow/core/grappler/optimizers/custom_graph_optimizer_registry.cc:113] Plugin optimizer for device_type GPU is enabled.\n"
     ]
    },
    {
     "name": "stdout",
     "output_type": "stream",
     "text": [
      "313/313 [==============================] - 5s 15ms/step\n"
     ]
    }
   ],
   "source": [
    "predictions = resnet_v3.predict(X_test)"
   ]
  },
  {
   "cell_type": "code",
   "execution_count": 42,
   "id": "cb401c53",
   "metadata": {},
   "outputs": [],
   "source": [
    "confusion_matrix = tf.math.confusion_matrix(y_test, np.argmax(predictions, axis = 1), 10)"
   ]
  },
  {
   "cell_type": "code",
   "execution_count": 43,
   "id": "746fbc0a",
   "metadata": {},
   "outputs": [
    {
     "data": {
      "image/png": "[encoded data removed]",
      "text/plain": [
       "<Figure size 720x504 with 2 Axes>"
      ]
     },
     "metadata": {
      "needs_background": "light"
     },
     "output_type": "display_data"
    }
   ],
   "source": [
    "df_cm = pd.DataFrame(confusion_matrix, index = classes, columns = classes)\n",
    "plt.figure(figsize = (10,7))\n",
    "sn.heatmap(df_cm, annot=True, cmap=sn.color_palette(\"ch:start=.2,rot=-.3\", as_cmap=True))\n",
    "plt.show()"
   ]
  },
  {
   "cell_type": "markdown",
   "id": "91b095d9",
   "metadata": {},
   "source": [
    "### 4. ResNet Model v4 - 8"
   ]
  },
  {
   "cell_type": "code",
   "execution_count": 6,
   "id": "268ddc12",
   "metadata": {},
   "outputs": [],
   "source": [
    "def resnet_v4():\n",
    "    input_layer = keras.Input(shape = (28, 28, 1), name = \"input_1\")\n",
    "    \n",
    "    A1 = tkl.Conv2D(64, kernel_size = (3, 3), strides = (1, 1), padding = \"same\", activation = \"relu\", kernel_initializer = \"he_normal\", bias_initializer = \"he_normal\")(input_layer)\n",
    "    \n",
    "    R2, A2 = residual_block(A1, A1, 64, (3, 3))\n",
    "    R3, A3 = residual_block(R2, A2, 64, (3, 3))\n",
    "    \n",
    "    P2 = tkl.MaxPool2D(pool_size = (3, 3), strides = (2, 2), padding = \"same\")(R3)\n",
    "    \n",
    "    R4, A4 = residual_block(P2, P2, 128, (3, 3))\n",
    "    R5, A5 = residual_block(R4, A4, 128, (3, 3))\n",
    "    \n",
    "    P3 = tkl.MaxPool2D(pool_size = (3, 3), strides = (2, 2), padding = \"same\")(R5)\n",
    "    \n",
    "    R6, A6 = residual_block(P3, P3, 256, (3, 3))\n",
    "    R7, A7 = residual_block(R6, A6, 256, (3, 3))\n",
    "    \n",
    "    P4 = tkl.MaxPool2D(pool_size = (3, 3), strides = (2, 2), padding = \"same\")(R7)\n",
    "    \n",
    "    R8, A8 = residual_block(P4, P4, 512, (3, 3))\n",
    "    R9, A9 = residual_block(R8, A8, 512, (3, 3))\n",
    "    \n",
    "    P5 = tkl.GlobalAveragePooling2D(name = \"pool_5\")(R9)\n",
    "    \n",
    "    output = tkl.Dense(10, activation = \"softmax\", name = \"output\", kernel_initializer = \"he_normal\", bias_initializer = \"he_normal\")(P5)\n",
    "    \n",
    "    model = keras.Model(input_layer, output, name = \"ResNetv4\")\n",
    "    model.compile(\n",
    "        loss = keras.losses.SparseCategoricalCrossentropy(),\n",
    "        optimizer = keras.optimizers.Adam(),\n",
    "        metrics = [\"accuracy\"]\n",
    "    )\n",
    "    return model"
   ]
  },
  {
   "cell_type": "code",
   "execution_count": 7,
   "id": "112b6b10",
   "metadata": {
    "collapsed": true
   },
   "outputs": [
    {
     "name": "stderr",
     "output_type": "stream",
     "text": [
      "2022-10-25 17:09:00.259912: I tensorflow/core/common_runtime/pluggable_device/pluggable_device_factory.cc:305] Could not identify NUMA node of platform GPU ID 0, defaulting to 0. Your kernel may not have been built with NUMA support.\n",
      "2022-10-25 17:09:00.260011: I tensorflow/core/common_runtime/pluggable_device/pluggable_device_factory.cc:271] Created TensorFlow device (/job:localhost/replica:0/task:0/device:GPU:0 with 0 MB memory) -> physical PluggableDevice (device: 0, name: METAL, pci bus id: <undefined>)\n"
     ]
    },
    {
     "name": "stdout",
     "output_type": "stream",
     "text": [
      "Metal device set to: Apple M1 Pro\n"
     ]
    }
   ],
   "source": [
    "resnet_v4 = resnet_v4()"
   ]
  },
  {
   "cell_type": "code",
   "execution_count": 8,
   "id": "70d9945c",
   "metadata": {
    "collapsed": true
   },
   "outputs": [
    {
     "name": "stdout",
     "output_type": "stream",
     "text": [
      "Model: \"ResNetv1\"\n",
      "__________________________________________________________________________________________________\n",
      " Layer (type)                   Output Shape         Param #     Connected to                     \n",
      "==================================================================================================\n",
      " input_1 (InputLayer)           [(None, 28, 28, 1)]  0           []                               \n",
      "                                                                                                  \n",
      " conv2d (Conv2D)                (None, 28, 28, 64)   640         ['input_1[0][0]']                \n",
      "                                                                                                  \n",
      " conv2d_1 (Conv2D)              (None, 28, 28, 64)   36928       ['conv2d[0][0]']                 \n",
      "                                                                                                  \n",
      " conv2d_2 (Conv2D)              (None, 28, 28, 64)   36928       ['conv2d_1[0][0]']               \n",
      "                                                                                                  \n",
      " concatenate (Concatenate)      (None, 28, 28, 128)  0           ['conv2d_2[0][0]',               \n",
      "                                                                  'conv2d[0][0]']                 \n",
      "                                                                                                  \n",
      " conv2d_3 (Conv2D)              (None, 28, 28, 64)   73792       ['concatenate[0][0]']            \n",
      "                                                                                                  \n",
      " conv2d_4 (Conv2D)              (None, 28, 28, 64)   36928       ['conv2d_3[0][0]']               \n",
      "                                                                                                  \n",
      " concatenate_1 (Concatenate)    (None, 28, 28, 128)  0           ['conv2d_4[0][0]',               \n",
      "                                                                  'conv2d_2[0][0]']               \n",
      "                                                                                                  \n",
      " max_pooling2d (MaxPooling2D)   (None, 14, 14, 128)  0           ['concatenate_1[0][0]']          \n",
      "                                                                                                  \n",
      " conv2d_5 (Conv2D)              (None, 14, 14, 128)  147584      ['max_pooling2d[0][0]']          \n",
      "                                                                                                  \n",
      " conv2d_6 (Conv2D)              (None, 14, 14, 128)  147584      ['conv2d_5[0][0]']               \n",
      "                                                                                                  \n",
      " concatenate_2 (Concatenate)    (None, 14, 14, 256)  0           ['conv2d_6[0][0]',               \n",
      "                                                                  'max_pooling2d[0][0]']          \n",
      "                                                                                                  \n",
      " conv2d_7 (Conv2D)              (None, 14, 14, 128)  295040      ['concatenate_2[0][0]']          \n",
      "                                                                                                  \n",
      " conv2d_8 (Conv2D)              (None, 14, 14, 128)  147584      ['conv2d_7[0][0]']               \n",
      "                                                                                                  \n",
      " concatenate_3 (Concatenate)    (None, 14, 14, 256)  0           ['conv2d_8[0][0]',               \n",
      "                                                                  'conv2d_6[0][0]']               \n",
      "                                                                                                  \n",
      " max_pooling2d_1 (MaxPooling2D)  (None, 7, 7, 256)   0           ['concatenate_3[0][0]']          \n",
      "                                                                                                  \n",
      " conv2d_9 (Conv2D)              (None, 7, 7, 256)    590080      ['max_pooling2d_1[0][0]']        \n",
      "                                                                                                  \n",
      " conv2d_10 (Conv2D)             (None, 7, 7, 256)    590080      ['conv2d_9[0][0]']               \n",
      "                                                                                                  \n",
      " concatenate_4 (Concatenate)    (None, 7, 7, 512)    0           ['conv2d_10[0][0]',              \n",
      "                                                                  'max_pooling2d_1[0][0]']        \n",
      "                                                                                                  \n",
      " conv2d_11 (Conv2D)             (None, 7, 7, 256)    1179904     ['concatenate_4[0][0]']          \n",
      "                                                                                                  \n",
      " conv2d_12 (Conv2D)             (None, 7, 7, 256)    590080      ['conv2d_11[0][0]']              \n",
      "                                                                                                  \n",
      " concatenate_5 (Concatenate)    (None, 7, 7, 512)    0           ['conv2d_12[0][0]',              \n",
      "                                                                  'conv2d_10[0][0]']              \n",
      "                                                                                                  \n",
      " max_pooling2d_2 (MaxPooling2D)  (None, 4, 4, 512)   0           ['concatenate_5[0][0]']          \n",
      "                                                                                                  \n",
      " conv2d_13 (Conv2D)             (None, 4, 4, 512)    2359808     ['max_pooling2d_2[0][0]']        \n",
      "                                                                                                  \n",
      " conv2d_14 (Conv2D)             (None, 4, 4, 512)    2359808     ['conv2d_13[0][0]']              \n",
      "                                                                                                  \n",
      " concatenate_6 (Concatenate)    (None, 4, 4, 1024)   0           ['conv2d_14[0][0]',              \n",
      "                                                                  'max_pooling2d_2[0][0]']        \n",
      "                                                                                                  \n",
      " conv2d_15 (Conv2D)             (None, 4, 4, 512)    4719104     ['concatenate_6[0][0]']          \n",
      "                                                                                                  \n",
      " conv2d_16 (Conv2D)             (None, 4, 4, 512)    2359808     ['conv2d_15[0][0]']              \n",
      "                                                                                                  \n",
      " concatenate_7 (Concatenate)    (None, 4, 4, 1024)   0           ['conv2d_16[0][0]',              \n",
      "                                                                  'conv2d_14[0][0]']              \n",
      "                                                                                                  \n",
      " pool_5 (GlobalAveragePooling2D  (None, 1024)        0           ['concatenate_7[0][0]']          \n",
      " )                                                                                                \n",
      "                                                                                                  \n",
      " output (Dense)                 (None, 10)           10250       ['pool_5[0][0]']                 \n",
      "                                                                                                  \n",
      "==================================================================================================\n",
      "Total params: 15,681,930\n",
      "Trainable params: 15,681,930\n",
      "Non-trainable params: 0\n",
      "__________________________________________________________________________________________________\n"
     ]
    }
   ],
   "source": [
    "resnet_v4.summary()"
   ]
  },
  {
   "cell_type": "code",
   "execution_count": 9,
   "id": "92154e5d",
   "metadata": {
    "collapsed": true
   },
   "outputs": [
    {
     "name": "stdout",
     "output_type": "stream",
     "text": [
      "Epoch 1/3\n"
     ]
    },
    {
     "name": "stderr",
     "output_type": "stream",
     "text": [
      "2022-10-25 17:09:00.702358: W tensorflow/core/platform/profile_utils/cpu_utils.cc:128] Failed to get CPU frequency: 0 Hz\n",
      "2022-10-25 17:09:01.163981: I tensorflow/core/grappler/optimizers/custom_graph_optimizer_registry.cc:113] Plugin optimizer for device_type GPU is enabled.\n"
     ]
    },
    {
     "name": "stdout",
     "output_type": "stream",
     "text": [
      "1875/1875 [==============================] - ETA: 0s - loss: 0.2896 - accuracy: 0.9135"
     ]
    },
    {
     "name": "stderr",
     "output_type": "stream",
     "text": [
      "2022-10-25 17:10:39.663040: I tensorflow/core/grappler/optimizers/custom_graph_optimizer_registry.cc:113] Plugin optimizer for device_type GPU is enabled.\n"
     ]
    },
    {
     "name": "stdout",
     "output_type": "stream",
     "text": [
      "1875/1875 [==============================] - 104s 55ms/step - loss: 0.2896 - accuracy: 0.9135 - val_loss: 0.0691 - val_accuracy: 0.9796\n",
      "Epoch 2/3\n",
      "1875/1875 [==============================] - 102s 54ms/step - loss: 0.0658 - accuracy: 0.9818 - val_loss: 0.0688 - val_accuracy: 0.9824\n",
      "Epoch 3/3\n",
      "1875/1875 [==============================] - 102s 54ms/step - loss: 0.0492 - accuracy: 0.9866 - val_loss: 0.0349 - val_accuracy: 0.9890\n"
     ]
    }
   ],
   "source": [
    "history = resnet_v4.fit(X_train, y_train, validation_data = (X_test, y_test), epochs = 3)"
   ]
  },
  {
   "cell_type": "code",
   "execution_count": 12,
   "id": "6da1d173",
   "metadata": {
    "collapsed": true
   },
   "outputs": [
    {
     "name": "stdout",
     "output_type": "stream",
     "text": [
      "  5/313 [..............................] - ETA: 4s  "
     ]
    },
    {
     "name": "stderr",
     "output_type": "stream",
     "text": [
      "2022-10-25 17:18:42.147631: I tensorflow/core/grappler/optimizers/custom_graph_optimizer_registry.cc:113] Plugin optimizer for device_type GPU is enabled.\n"
     ]
    },
    {
     "name": "stdout",
     "output_type": "stream",
     "text": [
      "313/313 [==============================] - 5s 15ms/step\n"
     ]
    }
   ],
   "source": [
    "predictions = resnet_v4.predict(X_test)"
   ]
  },
  {
   "cell_type": "code",
   "execution_count": 13,
   "id": "d5989d38",
   "metadata": {},
   "outputs": [],
   "source": [
    "confusion_matrix = tf.math.confusion_matrix(y_test, np.argmax(predictions, axis = 1), 10)"
   ]
  },
  {
   "cell_type": "code",
   "execution_count": 14,
   "id": "fcc5f1aa",
   "metadata": {
    "collapsed": true
   },
   "outputs": [
    {
     "data": {
      "image/png": "[encoded data removed]",
      "text/plain": [
       "<Figure size 720x504 with 2 Axes>"
      ]
     },
     "metadata": {
      "needs_background": "light"
     },
     "output_type": "display_data"
    }
   ],
   "source": [
    "df_cm = pd.DataFrame(confusion_matrix, index = classes, columns = classes)\n",
    "plt.figure(figsize = (10,7))\n",
    "sn.heatmap(df_cm, annot=True, cmap=sn.color_palette(\"ch:start=.2,rot=-.3\", as_cmap=True))\n",
    "plt.show()"
   ]
  },
  {
   "cell_type": "code",
   "execution_count": null,
   "id": "0a730125",
   "metadata": {},
   "outputs": [],
   "source": []
  }
 ],
 "metadata": {
  "kernelspec": {
   "display_name": "Python 3.9 (tensorflow)",
   "language": "python",
   "name": "tensorflow"
  },
  "language_info": {
   "codemirror_mode": {
    "name": "ipython",
    "version": 3
   },
   "file_extension": ".py",
   "mimetype": "text/x-python",
   "name": "python",
   "nbconvert_exporter": "python",
   "pygments_lexer": "ipython3",
   "version": "3.9.13"
  }
 },
 "nbformat": 4,
 "nbformat_minor": 5
}
